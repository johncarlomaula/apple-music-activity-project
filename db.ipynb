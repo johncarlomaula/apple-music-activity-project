{
 "cells": [
  {
   "cell_type": "markdown",
   "id": "a93da709",
   "metadata": {},
   "source": [
    "## 1. Introduction\n",
    "\n",
    "In this code, I use the following [tutorial](https://www.freecodecamp.org/news/connect-python-with-sql/) to create the database for my apple music data."
   ]
  },
  {
   "cell_type": "markdown",
   "id": "d918b702",
   "metadata": {},
   "source": [
    "### 1.1 Loading Packages"
   ]
  },
  {
   "cell_type": "code",
   "execution_count": 1,
   "id": "4f9a06fd",
   "metadata": {},
   "outputs": [],
   "source": [
    "# Import required packages\n",
    "import mysql.connector\n",
    "from mysql.connector import Error\n",
    "import pandas as pd\n",
    "import time"
   ]
  },
  {
   "cell_type": "markdown",
   "id": "9c9ad6e9",
   "metadata": {},
   "source": [
    "### 1.2 Connecting to Server"
   ]
  },
  {
   "cell_type": "code",
   "execution_count": 2,
   "id": "d09139b2",
   "metadata": {},
   "outputs": [],
   "source": [
    "# Define function to create a server connection\n",
    "def create_server_connection(host_name, user_name, user_password):\n",
    "    connection = None\n",
    "    try:\n",
    "        connection = mysql.connector.connect(\n",
    "            host=host_name,\n",
    "            user=user_name,\n",
    "            passwd=user_password\n",
    "        )\n",
    "        print(\"MySQL Database connection successful.\")\n",
    "    except Error as err:\n",
    "        print(f\"Error: '{err}'\")\n",
    "        \n",
    "    return connection"
   ]
  },
  {
   "cell_type": "code",
   "execution_count": 3,
   "id": "f3fa649b",
   "metadata": {},
   "outputs": [
    {
     "name": "stdout",
     "output_type": "stream",
     "text": [
      "MySQL Database connection successful.\n"
     ]
    }
   ],
   "source": [
    "# Create server connection\n",
    "connection = create_server_connection(\"localhost\", \"root\", \"\")"
   ]
  },
  {
   "cell_type": "markdown",
   "id": "780e130b",
   "metadata": {},
   "source": [
    "### 1.3 Creating a New Database"
   ]
  },
  {
   "cell_type": "code",
   "execution_count": 4,
   "id": "e96e8f5f",
   "metadata": {},
   "outputs": [],
   "source": [
    "# Define function to create a database\n",
    "def create_database(connection, query):\n",
    "    cursor = connection.cursor()\n",
    "    try:\n",
    "        cursor.execute(query)\n",
    "        print(\"Database created successfully.\")\n",
    "    except Error as err:\n",
    "        print(f\"Error: '{err}'\")"
   ]
  },
  {
   "cell_type": "code",
   "execution_count": 5,
   "id": "2a5ff89c",
   "metadata": {},
   "outputs": [
    {
     "name": "stdout",
     "output_type": "stream",
     "text": [
      "Database created successfully.\n"
     ]
    }
   ],
   "source": [
    "# Create music database\n",
    "create_database_query = \"CREATE DATABASE apple_music\"\n",
    "create_database(connection, create_database_query)"
   ]
  },
  {
   "cell_type": "markdown",
   "id": "dc82fbe1",
   "metadata": {},
   "source": [
    "### 1.4 Connecting to Database"
   ]
  },
  {
   "cell_type": "code",
   "execution_count": 6,
   "id": "22b5e462",
   "metadata": {},
   "outputs": [],
   "source": [
    "# Define function to connect to a database\n",
    "def create_db_connection(host_name, user_name, user_password, db_name):\n",
    "    connection = None\n",
    "    try:\n",
    "        connection = mysql.connector.connect(\n",
    "            host=host_name,\n",
    "            user=user_name,\n",
    "            passwd=user_password,\n",
    "            database=db_name\n",
    "        )\n",
    "        print(\"MySQL Database connection successful\")\n",
    "    except Error as err:\n",
    "        print(f\"Error: '{err}'\")\n",
    "    return connection"
   ]
  },
  {
   "cell_type": "code",
   "execution_count": 7,
   "id": "50f7998e",
   "metadata": {},
   "outputs": [
    {
     "name": "stdout",
     "output_type": "stream",
     "text": [
      "MySQL Database connection successful\n"
     ]
    }
   ],
   "source": [
    "# Connect to apple music database\n",
    "connection = create_db_connection(\"localhost\", \"root\", \"\", \"apple_music\")"
   ]
  },
  {
   "cell_type": "markdown",
   "id": "e7aa660f",
   "metadata": {},
   "source": [
    "### 1.5 Executing SQL Queries"
   ]
  },
  {
   "cell_type": "code",
   "execution_count": 8,
   "id": "51cc0a84",
   "metadata": {},
   "outputs": [],
   "source": [
    "# Define function to execute SQL queries\n",
    "def execute_query(connection, query):\n",
    "    cursor = connection.cursor()\n",
    "    try:\n",
    "        cursor.execute(query)\n",
    "        connection.commit()\n",
    "        print(\"Query successful\")\n",
    "    except Error as err:\n",
    "        print(f\"Error: '{err}'\")"
   ]
  },
  {
   "cell_type": "markdown",
   "id": "787c7236",
   "metadata": {},
   "source": [
    "## 2. Creating the Tables"
   ]
  },
  {
   "cell_type": "markdown",
   "id": "a1fb3526",
   "metadata": {},
   "source": [
    "### 2.1 Track Activity Table"
   ]
  },
  {
   "cell_type": "code",
   "execution_count": 9,
   "id": "c3a1ad09",
   "metadata": {},
   "outputs": [],
   "source": [
    "# Create play activity table\n",
    "create_play_activity_table = \"\"\"\n",
    "    CREATE TABLE play_activity (\n",
    "        artist_name VARCHAR(255),\n",
    "        song_name VARCHAR(255),\n",
    "        play_duration_ms FLOAT,\n",
    "        end_reason_type VARCHAR(255),\n",
    "        media_duration_ms FLOAT,\n",
    "        event_timestamp VARCHAR(255)\n",
    "    );\n",
    "\"\"\""
   ]
  },
  {
   "cell_type": "code",
   "execution_count": 10,
   "id": "bf5f0dbc",
   "metadata": {},
   "outputs": [
    {
     "name": "stdout",
     "output_type": "stream",
     "text": [
      "Query successful\n"
     ]
    }
   ],
   "source": [
    "# Execute query\n",
    "execute_query(connection, create_play_activity_table)"
   ]
  },
  {
   "cell_type": "markdown",
   "id": "e597ebcd",
   "metadata": {},
   "source": [
    "### 2.2 Library Table"
   ]
  },
  {
   "cell_type": "code",
   "execution_count": 17,
   "id": "a912060f",
   "metadata": {},
   "outputs": [],
   "source": [
    "# Create library table\n",
    "create_library_table = \"\"\"\n",
    "    CREATE TABLE library (\n",
    "        title VARCHAR(255),\n",
    "        artist VARCHAR(255),\n",
    "        album VARCHAR(255),\n",
    "        genre VARCHAR(255),\n",
    "        track_year INT,\n",
    "        track_duration FLOAT,\n",
    "        release_date VARCHAR(255),\n",
    "        play_count INT\n",
    "    );\n",
    "\"\"\""
   ]
  },
  {
   "cell_type": "code",
   "execution_count": 18,
   "id": "a7ef0384",
   "metadata": {},
   "outputs": [
    {
     "name": "stdout",
     "output_type": "stream",
     "text": [
      "Query successful\n"
     ]
    }
   ],
   "source": [
    "# Execute query\n",
    "execute_query(connection, create_library_table)"
   ]
  }
 ],
 "metadata": {
  "kernelspec": {
   "display_name": "Python 3",
   "language": "python",
   "name": "python3"
  },
  "language_info": {
   "codemirror_mode": {
    "name": "ipython",
    "version": 3
   },
   "file_extension": ".py",
   "mimetype": "text/x-python",
   "name": "python",
   "nbconvert_exporter": "python",
   "pygments_lexer": "ipython3",
   "version": "3.8.0"
  }
 },
 "nbformat": 4,
 "nbformat_minor": 5
}
